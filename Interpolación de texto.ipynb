{
 "cells": [
  {
   "cell_type": "markdown",
   "metadata": {},
   "source": [
    "# Dar formato a salidas en Python\n",
    "\n",
    "Existen diferentes maneras de generar salidas en los programas de Python:\n",
    "- La función `print`\n",
    "- La instrucción `sys.stdout.write` – que no veremos, al menos por el momento\n",
    "- Como valores regresados por funciones – que veremos en detalle más adelante\n",
    "- Mediante la escritura a archivos de datos – que también veremos después\n"
   ]
  },
  {
   "cell_type": "markdown",
   "metadata": {},
   "source": [
    "## `print`\n",
    "\n",
    "La función `print` escribe en la pantalla la expresión o expresiones que se indican. Como cualquier función, sus argumentos se escriben entre paréntesis. Si son varias expresiones las que se desean imprimir, deben separarse por comas (`,`). No es necesario que las expresiones sean del mismo tipo. Al imprimir, cada expresión aparece separada de la siguiente por un espacio, de manera\n",
    "predeterminada.\n",
    "\n",
    "Si se desea omitir el espacio, pueden concatenarse las expresiones, en lugar de indicarlas como una lista separada por comas. Ejecuta la siguiente celda de código y compara la salida de las dos instrucciones `print`:"
   ]
  },
  {
   "cell_type": "code",
   "execution_count": null,
   "metadata": {},
   "outputs": [],
   "source": [
    "x = \"uno\"\n",
    "y = \"dos\"\n",
    "z = \"tres\"\n",
    "print(\"Primer print: \", x, y, z)\n",
    "print(\"Segundo print:\", x + y + z)"
   ]
  },
  {
   "cell_type": "markdown",
   "metadata": {},
   "source": [
    "<div class=\"alert alert-block alert-info\">\n",
    "    <b>Contesta</b>: ¿Qué notaste de diferencia? ¿A qué se debe?\n",
    "</div>"
   ]
  },
  {
   "cell_type": "markdown",
   "metadata": {},
   "source": [
    "Respuesta: "
   ]
  },
  {
   "cell_type": "markdown",
   "metadata": {},
   "source": [
    "No se pueden concatenar números con texto. Para concatenar valores numéricos, hay que hacer la conversión de tipos antes:"
   ]
  },
  {
   "cell_type": "code",
   "execution_count": null,
   "metadata": {},
   "outputs": [],
   "source": [
    "alumno = \"Hermeregildo\"\n",
    "edad = 21\n",
    "print(\"La edad de \" + alumno + \" es \" + str(edad) + \" años.\")"
   ]
  },
  {
   "cell_type": "markdown",
   "metadata": {},
   "source": [
    "<div class=\"alert alert-block alert-info\">\n",
    "    <b>Contesta</b>:¿Para que sirve la función <code>str</code>? ¿Para qué se usa aquí?\n",
    "</div>"
   ]
  },
  {
   "cell_type": "markdown",
   "metadata": {},
   "source": [
    "Respuesta:"
   ]
  },
  {
   "cell_type": "markdown",
   "metadata": {},
   "source": [
    "Una alternativa que ofrece la instrucción `print` es usar el parámetro opcional `sep` para indicar que no se desea el espacio extra entre cada una de las expresiones impresas. La segunda instrucción `print`en la celda de abajo utiliza la *cadena nula* como separador:"
   ]
  },
  {
   "cell_type": "code",
   "execution_count": null,
   "metadata": {},
   "outputs": [],
   "source": [
    "x = 'uno'\n",
    "y = 'dos'\n",
    "z = 'tres'\n",
    "print('Con espacios:', x, y, z)\n",
    "print('Sin espacios:', x, y, z, sep='')"
   ]
  },
  {
   "cell_type": "markdown",
   "metadata": {},
   "source": [
    "<div class=\"alert alert-block alert-info\">\n",
    "    <b>Modifica el código</b> de la siguiente celda, utilizando el parámetro\n",
    "    <code>sep</code>, para que los valores impresos se separen por dos asteriscos\n",
    "    con un guión enmedio (<code>*-*</code>):\n",
    "</div>"
   ]
  },
  {
   "cell_type": "code",
   "execution_count": null,
   "metadata": {},
   "outputs": [],
   "source": [
    "print(x, y, z, sep=\"?\")"
   ]
  },
  {
   "cell_type": "markdown",
   "metadata": {},
   "source": [
    "En Python, hay *secuencias de escape*, que son cadenas que se utilizan para representar valores especiales. Por ejemplo, la cadena `\"\\n\"` representa un salto de línea o cambio de renglón, la cadena `\"\\t\"` representa un tabulador, etc.\n",
    "\n",
    "¿Cómo crees que se impriman los valores en la siguiente instrucción `print`? Ejecuta la celda y verifica tu observación."
   ]
  },
  {
   "cell_type": "code",
   "execution_count": null,
   "metadata": {},
   "outputs": [],
   "source": [
    "alumno = \"Ernestina\"\n",
    "edad = 22\n",
    "calificacion = 90\n",
    "print(alumno, edad, calificacion, sep=\"\\n\")"
   ]
  },
  {
   "cell_type": "markdown",
   "metadata": {},
   "source": [
    "<div class=\"alert alert-block alert-info\">\n",
    "    <b>Modifica el código</b> de la siguiente celda para que los valores se impriman a doble espacio.\n",
    "</div>"
   ]
  },
  {
   "cell_type": "code",
   "execution_count": null,
   "metadata": {},
   "outputs": [],
   "source": [
    "print(alumno, edad, calificacion, sep=\"\\n\")"
   ]
  },
  {
   "cell_type": "markdown",
   "metadata": {},
   "source": [
    "Como has observado a través del curso, `print` cambia de línea después de ejecutarse, es decir, cada `print` sucesivo imprime en un nuevo renglón. Si no se desea el cambio de línea, se puede especificar el parámetro `end`:"
   ]
  },
  {
   "cell_type": "code",
   "execution_count": null,
   "metadata": {},
   "outputs": [],
   "source": [
    "print('uno', end ='')\n",
    "print('dos', end ='.')\n",
    "print('tres', end ='-*-')\n",
    "print('cuatro')\n",
    "print('cinco')"
   ]
  },
  {
   "cell_type": "markdown",
   "metadata": {},
   "source": [
    "<div class=\"alert alert-block alert-info\">\n",
    "    <b>Contesta</b>: ¿Puedes explicar qué pasó?\n",
    "</div>"
   ]
  },
  {
   "cell_type": "markdown",
   "metadata": {},
   "source": [
    "Respuesta:"
   ]
  },
  {
   "cell_type": "markdown",
   "metadata": {},
   "source": [
    "## Interpolación de texto\n",
    "\n",
    "Se puede controlar de manera más específica el formato de la salida utilizando varios métodos. El propósito de estos métodos es introducir el valor de variables dentro de expresiones de texto y se llama interpolación de texto."
   ]
  },
  {
   "cell_type": "markdown",
   "metadata": {},
   "source": [
    "### Operador `%`\n",
    "\n",
    "Uno de los métodos más antíguos de interpolación de texto es el operador `%`. Observa el siguiente ejemplo:"
   ]
  },
  {
   "cell_type": "code",
   "execution_count": null,
   "metadata": {},
   "outputs": [],
   "source": [
    "nombre = 'Juan'\n",
    "edad = 22\n",
    "info = 'La edad de %s es de %d años.' % (nombre, edad)\n",
    "print(info)"
   ]
  },
  {
   "cell_type": "markdown",
   "metadata": {},
   "source": [
    "El operador `%` se coloca entre dos operandos: El de la izquierda es un valor de texto que contiene *marcadores* (indicados con el signo de porcentaje y una letra) que serán reemplazados por valores tomados del operando de la derecha. \n",
    "\n",
    "El operando de la derecha es una *tupla*, es decir, una serie de valores, indicados entre paréntesis y separados por comas. Debe haber tantos elementos en la tupla como marcadores reemplazables haya en la cadena.\n",
    "\n",
    "El marcador `%s` se usa para indicar valores de texto, y el `%d`, para enteros. También existe el marcador `%f` para números `float`."
   ]
  },
  {
   "cell_type": "markdown",
   "metadata": {},
   "source": [
    "<div class=\"alert alert-block alert-info\">\n",
    "    <b>Contesta</b>: ¿Qué valor reemplazó al marcador <code>%s</code> en la celda de arriba?\n",
    "</div>\n"
   ]
  },
  {
   "cell_type": "markdown",
   "metadata": {},
   "source": [
    "Respuesta: "
   ]
  },
  {
   "cell_type": "markdown",
   "metadata": {},
   "source": [
    "<div class=\"alert alert-block alert-info\">\n",
    "    <b>Contesta</b>: ¿Qué valor reemplazó al marcador <code>%d</code> en la celda de arriba? \n",
    "</div>"
   ]
  },
  {
   "cell_type": "markdown",
   "metadata": {},
   "source": [
    "Respuesta: "
   ]
  },
  {
   "cell_type": "markdown",
   "metadata": {},
   "source": [
    "### Método `format` de la clase `str`\n",
    "\n",
    "Otro método, más moderno, es el método `format` de la clase `str`. Observa el siguiente ejemplo:"
   ]
  },
  {
   "cell_type": "code",
   "execution_count": null,
   "metadata": {},
   "outputs": [],
   "source": [
    "nombre = 'Juan'\n",
    "edad = 22\n",
    "info = 'La edad de {} es de {} años.'.format(nombre, edad)\n",
    "print(info)"
   ]
  },
  {
   "cell_type": "markdown",
   "metadata": {},
   "source": [
    "`format` es un método y, como tal, primero se escribe el valor de texto, enseguida un punto (`.`), la palabra `format` y, entre paréntesis, los argumentos, que, en este caso, son los valores a interpolar en la cadena de texto."
   ]
  },
  {
   "cell_type": "markdown",
   "metadata": {},
   "source": [
    "<div class=\"alert alert-block alert-info\">\n",
    "    <b>Contesta</b>: ¿Qué función crees que tengan las llaves (<code>{}</code>) en el código de la celda de arriba?\n",
    "<div>"
   ]
  },
  {
   "cell_type": "markdown",
   "metadata": {},
   "source": [
    "Respuesta: "
   ]
  },
  {
   "cell_type": "markdown",
   "metadata": {},
   "source": [
    "### *f-strings*\n",
    "\n",
    "El método más moderno (a partir de la versión 3.6 de Python) son las literales de texto con formato (también llamadas \"cadenas f\" o \"*f-strings*\").\n",
    "\n",
    "Observa el siguiente ejemplo:"
   ]
  },
  {
   "cell_type": "code",
   "execution_count": null,
   "metadata": {},
   "outputs": [],
   "source": [
    "nombre = 'Juan'\n",
    "edad = 22\n",
    "info = f'La edad de {nombre} es de {edad} años.'\n",
    "print(info)"
   ]
  },
  {
   "cell_type": "markdown",
   "metadata": {},
   "source": [
    "Como puedes observar, este método de interpolación de texto es más sencillo, directo y conciso. \n",
    "\n",
    "Para utilizar literales de texto con formato (*f-strings*), se debe colocar una letra `f` (puede ser mayúscula o minúscula), antes de las comillas (dobles o sencillas) de apertura de la literal de texto y, dentro del texto, indicar entre llaves las expresiones que se evaluarán y sustituirán en tiempo de ejecución. \n",
    "\n",
    "Es importante recalcar que dentro de las llaves se pueden poner cualesquier expresiones arbitrarias, no únicamente nombres de variables."
   ]
  },
  {
   "cell_type": "markdown",
   "metadata": {},
   "source": [
    "<div class=\"alert alert-block alert-info\">\n",
    "    <b>Modifica el código</b> de la siguiente celda para que imprima el resultado con este formato:<p>\n",
    "    \n",
    "<code>El área de un círculo de radio ... es ...</code>\n",
    "</div>"
   ]
  },
  {
   "cell_type": "code",
   "execution_count": null,
   "metadata": {},
   "outputs": [],
   "source": [
    "from math import pi\n",
    "radio = 5\n",
    "area = pi * radio ** 2\n",
    "print(\"Área: \", area)"
   ]
  },
  {
   "cell_type": "markdown",
   "metadata": {},
   "source": [
    "Mencionamos que dentro de las llaves se puede poner cualquier expresión, no únicamente nombres de variables. Vamos a usarlo enseguida para imprimir varias potencias de 10:"
   ]
  },
  {
   "cell_type": "code",
   "execution_count": null,
   "metadata": {},
   "outputs": [],
   "source": [
    "x = 10\n",
    "print(f\"Primera potencia: {x}\")\n",
    "print(f\"Segunda potencia: {x**2}\")\n",
    "print(f\"Tercera potencia: {x**3}\")\n",
    "print(f\"Cuarta potencia:  {x**4}\")"
   ]
  },
  {
   "cell_type": "markdown",
   "metadata": {},
   "source": [
    "Puedes observar que las expresiones dentro de las llaves en la *f-string* se evalúan antes de imprimirse.\n",
    "\n",
    "De cualquier forma, la manera como se alinean los valores en el ejemplo precedente no es la más óptima para mostrar números. \n",
    "\n",
    "¡Pero estamos hablando de darle formato a las salidas! Así que no hay problema. Las *f-strings* nos permiten indicar, además de la expresión a interpolar, un código que nos indica el formato que se aplicará a la cadena.\n",
    "\n",
    "Dentro de las llaves, se escribe la expresión a evaluar, seguida de dos puntos (`:`) y el código de formato.\n",
    "\n",
    "Observa el siguiente ejemplo:"
   ]
  },
  {
   "cell_type": "code",
   "execution_count": null,
   "metadata": {},
   "outputs": [],
   "source": [
    "x = 10\n",
    "print(f\"Primera potencia: {x:5d}\")\n",
    "print(f\"Segunda potencia: {x**2:5d}\")\n",
    "print(f\"Tercera potencia: {x**3:5d}\")\n",
    "print(f\"Cuarta potencia:  {x**4:5d}\")"
   ]
  },
  {
   "cell_type": "markdown",
   "metadata": {},
   "source": [
    "¿Observas cómo se alínean ahora los valores?\n",
    "\n",
    "Ya vimos, cuando hablamos del operador `%`, que la letra `d` se utiliza para indicar valores enteros y que los dos puntos (`:`) se utilizan para separar el código de formato de la expresión a evaluar pero..."
   ]
  },
  {
   "cell_type": "markdown",
   "metadata": {},
   "source": [
    "<div class=\"alert alert-block alert-info\">\n",
    "    <b>Contesta</b>: ¿Qué papel crees que desempeña el número <code>5</code> en el código de formato del ejemplo (<code>:5d</code>)? Si observas y analizas con atención la salida, lo podrás deducir."
   ]
  },
  {
   "cell_type": "markdown",
   "metadata": {},
   "source": [
    "Respuesta: "
   ]
  },
  {
   "cell_type": "markdown",
   "metadata": {},
   "source": [
    "También podemos incluir en el formato comas separadoras de miles. Observa:"
   ]
  },
  {
   "cell_type": "code",
   "execution_count": null,
   "metadata": {},
   "outputs": [],
   "source": [
    "x = 10\n",
    "print(f\"Primera potencia: {x   :9,d}\")\n",
    "print(f\"Segunda potencia: {x**2:9,d}\")\n",
    "print(f\"Tercera potencia: {x**3:9,d}\")\n",
    "print(f\"Cuarta potencia:  {x**4:9,d}\")\n",
    "print(f\"Quinta potencia:  {x**5:9,d}\")\n",
    "print(f\"Sexta potencia:   {x**6:9,d}\")"
   ]
  },
  {
   "cell_type": "markdown",
   "metadata": {},
   "source": [
    "<div class=\"alert alert-block alert-info\">\n",
    "    <b>Contesta</b>: ¿Qué carácter utilizamos para poner comas separadoras de miles y dónde se coloca?\n",
    "</div>"
   ]
  },
  {
   "cell_type": "markdown",
   "metadata": {},
   "source": [
    "Respuesta: "
   ]
  },
  {
   "cell_type": "markdown",
   "metadata": {},
   "source": [
    "Ya mencionábamos arriba que la letra `f` la usábamos para indicar valores `float` en una expresión a interpolar. Para los valores `float`, también podemos indicar cuántos decimales deseamos. Observa:"
   ]
  },
  {
   "cell_type": "code",
   "execution_count": null,
   "metadata": {},
   "outputs": [],
   "source": [
    "x = 10\n",
    "print(f\"Primera potencia: {x   :9,.2f}\")\n",
    "print(f\"Segunda potencia: {x**2:9,.2f}\")\n",
    "print(f\"Tercera potencia: {x**3:9,.2f}\")\n",
    "print(f\"Cuarta potencia:  {x**4:9,.2f}\")"
   ]
  },
  {
   "cell_type": "markdown",
   "metadata": {},
   "source": [
    "<div class=\"alert alert-block alert-info\">\n",
    "    <b>Contesta</b>: ¿Qué agregamos para indicar los decimales?\n",
    "<div> "
   ]
  },
  {
   "cell_type": "markdown",
   "metadata": {},
   "source": [
    "Respuesta: "
   ]
  },
  {
   "cell_type": "markdown",
   "metadata": {},
   "source": [
    "<div class=\"alert alert-block alert-info\">\n",
    "    <b>Contesta</b>: Los puntos y comas en los números, ¿cuentan para tomar en cuenta el ancho del campo de impresión?\n",
    "</div>"
   ]
  },
  {
   "cell_type": "markdown",
   "metadata": {},
   "source": [
    "Respuesta: "
   ]
  },
  {
   "cell_type": "code",
   "execution_count": null,
   "metadata": {},
   "outputs": [],
   "source": [
    "# Modifica este código para que el resultado se imprima con tres decimales\n",
    "from math import pi\n",
    "radio = 5\n",
    "area = pi * radio ** 2\n",
    "print(\"Área: \", area)"
   ]
  },
  {
   "cell_type": "markdown",
   "metadata": {},
   "source": [
    "Las *f-string* son muy versátiles. \n",
    "\n",
    "Permiten también rellenar con ceros a la izquierda:"
   ]
  },
  {
   "cell_type": "code",
   "execution_count": null,
   "metadata": {},
   "outputs": [],
   "source": [
    "x = 10\n",
    "print(f\"Primera potencia: {x   :09,.2f}\")\n",
    "print(f\"Segunda potencia: {x**2:09,.2f}\")\n",
    "print(f\"Tercera potencia: {x**3:09,.2f}\")\n",
    "print(f\"Cuarta potencia:  {x**4:09,.2f}\")"
   ]
  },
  {
   "cell_type": "markdown",
   "metadata": {},
   "source": [
    "O, en valores de texto, especificar la alineación:"
   ]
  },
  {
   "cell_type": "code",
   "execution_count": null,
   "metadata": {},
   "outputs": [],
   "source": [
    "print(f\"---{'a la izquierda':<25}---\")\n",
    "print(f\"---{'a la derecha':>25}---\")\n",
    "print(f\"---{'centrado':^25}---\")"
   ]
  },
  {
   "cell_type": "markdown",
   "metadata": {},
   "source": [
    "En el ejemplo anterior vemos dos cosas: que entre las expresiones dentro de las llaves también podemos\n",
    "incluir literales, y la ventaja de que en Python se puedan usar comillas o apóstrofes como delimitadores de valores literales de texto.\n",
    "\n",
    "Se pueden incluir también caracteres de relleno en el formato. Observa:"
   ]
  },
  {
   "cell_type": "code",
   "execution_count": null,
   "metadata": {},
   "outputs": [],
   "source": [
    "print(f\"---{'a la izquierda':*<25}---\")\n",
    "print(f\"---{'a la derecha':*>25}---\")\n",
    "print(f\"---{'centrado':*^25}---\")"
   ]
  },
  {
   "cell_type": "markdown",
   "metadata": {},
   "source": [
    "<div class=\"alert alert-block alert-info\">\n",
    "    <b>Contesta</b>: ¿Qué carácter se utiliza para alinear a la izquierda?\n",
    "</div>"
   ]
  },
  {
   "cell_type": "markdown",
   "metadata": {},
   "source": [
    "Respuesta: "
   ]
  },
  {
   "cell_type": "markdown",
   "metadata": {},
   "source": [
    "<div class=\"alert alert-block alert-info\">\n",
    "    <b>Contesta</b>: ¿Qué carácter se utiliza para alinear a la derecha?\n",
    "</div>"
   ]
  },
  {
   "cell_type": "markdown",
   "metadata": {},
   "source": [
    "Respuesta: "
   ]
  },
  {
   "cell_type": "markdown",
   "metadata": {},
   "source": [
    "<div class=\"alert alert-block alert-info\">\n",
    "    <b>Contesta</b>: ¿Qué carácter se utiliza para centrar?\n",
    "</div>"
   ]
  },
  {
   "cell_type": "markdown",
   "metadata": {},
   "source": [
    "Respuesta: "
   ]
  },
  {
   "cell_type": "markdown",
   "metadata": {},
   "source": [
    "<div class=\"alert alert-block alert-info\">\n",
    "    <b>Contesta</b>: ¿Qué función tiene el número 25 en los ejemplos de arriba? \n",
    "</div>"
   ]
  },
  {
   "cell_type": "markdown",
   "metadata": {},
   "source": [
    "Respuesta: "
   ]
  },
  {
   "cell_type": "markdown",
   "metadata": {},
   "source": [
    "Si se quieren incluir las llaves dentro de la parte literal de una f-string, hay que ponerlas dobles: `{{` y `}}`.\n",
    "\n",
    "También se pueden anidar las llaves un nivel, lo que permite usar expresiones en la definición del formato, por ejemplo, en lugar de codificar así:"
   ]
  },
  {
   "cell_type": "code",
   "execution_count": null,
   "metadata": {},
   "outputs": [],
   "source": [
    "from math import pi\n",
    "print(f\"pi:    {pi   :9.5f}\")\n",
    "print(f\"pi^2:  {pi**2:9.5f}\")\n",
    "print(f\"pi^3:  {pi**3:9.5f}\")\n",
    "print(f\"pi^4:  {pi**4:9.5f}\")\n",
    "print(f\"pi^5:  {pi**5:9.5f}\")"
   ]
  },
  {
   "cell_type": "markdown",
   "metadata": {},
   "source": [
    "Podemos codificar así:"
   ]
  },
  {
   "cell_type": "code",
   "execution_count": null,
   "metadata": {},
   "outputs": [],
   "source": [
    "from math import pi\n",
    "ANCHO = 9\n",
    "DECIMALES = 5\n",
    "print(f\"pi:    {pi   :{ANCHO}.{DECIMALES}f}\")\n",
    "print(f\"pi^2:  {pi**2:{ANCHO}.{DECIMALES}f}\")\n",
    "print(f\"pi^3:  {pi**3:{ANCHO}.{DECIMALES}f}\")\n",
    "print(f\"pi^4:  {pi**4:{ANCHO}.{DECIMALES}f}\")\n",
    "print(f\"pi^5:  {pi**5:{ANCHO}.{DECIMALES}f}\")"
   ]
  },
  {
   "cell_type": "markdown",
   "metadata": {},
   "source": [
    "<div class=\"alert alert-block alert-info\">\n",
    "    <b>Modifica el código</b> de las dos celdas de arriba para cambiar la visualización de las potencias de $\\pi$ y que se muestren con ocho decimales en lugar de cinco. Es posible que también tengas que cambiar el ancho del campo para que las cifras se sigan alineando correctamente por su punto decimal.\n",
    "</div>"
   ]
  },
  {
   "cell_type": "markdown",
   "metadata": {},
   "source": [
    " <div class=\"alert alert-block alert-info\">\n",
    "    <b>Contesta</b>: Cuando tienes que modificar código, ¿qué implicaciones tiene el que hayas parametrizado los valores, o sea, estableciendo constantes al inicio del código, como en el segundo ejemplo, a diferencia del primer ejemplo, en el que los valores literales se usaron directamente?\n",
    "</div>"
   ]
  },
  {
   "cell_type": "markdown",
   "metadata": {},
   "source": [
    "Respuesta: "
   ]
  },
  {
   "cell_type": "markdown",
   "metadata": {},
   "source": [
    "Además de los tipos `d` (entero), `f` (real) y `s` (cadena de texto), se pueden utilizar los siguientes indicadores de tipo:\n",
    "\n",
    "- `E` (notación científica),\n",
    "- `%` (porcentaje),\n",
    "- `b` (convertir a binario),\n",
    "- `X` (convertir a hexadecimal),\n",
    "\n",
    "entre otros."
   ]
  },
  {
   "cell_type": "markdown",
   "metadata": {},
   "source": [
    "### Minilenguaje para la especificación de formato\n",
    "\n",
    "La sintaxis resumida para la especificación de formato se muestra en la siguiente tabla y su explicación la puedes encontrar en la documentación oficial de Python: (https://docs.python.org/3/library/string.html#formatspec).\n",
    "\n",
    "||`[[fill]align][sign][#][0][width][,][.precision][type]`|\n",
    "|:-|:-|\n",
    "| `fill` | <cualquier carácter> |\n",
    "| `align`| `\"<\" \\| \">\" \\| \"=\" \\| \"^\"`|\n",
    "| `sign` | `\"+\" \\| \"-\" \\| \" \" `|\n",
    "| `width`| entero |\n",
    "| `precision` | entero |\n",
    "| `type` | `\"b\" \\| \"c\" \\| \"d\" \\| \"e\" \\| \"E\" \\| \"f\" \\| \"F\" \\| \"g\" \\| \"G\" \\|`<br>`\"n\" \\| \"o\" \\| \"s\" \\| \"x\" \\| \"X\" \\| \"%\"` |"
   ]
  },
  {
   "cell_type": "markdown",
   "metadata": {},
   "source": [
    "<div class=\"alert alert-block alert-info\">\n",
    "    <b>Modifica el código de abajo</b> utilizando interpolación de texto con <em>f-strings</em> para generar la salida con el siguiente formato:<p>\n",
    "\n",
    "\n",
    "<code>                Horas   Importe\n",
    "Sueldo normal    48    4,800.00\n",
    "Sueldo doble      9    1,800.00\n",
    "Sueldo triple     3      900.00\n",
    "Total            60    7,500.00\n",
    "</code>\n",
    "    \n",
    "</div>"
   ]
  },
  {
   "cell_type": "code",
   "execution_count": null,
   "metadata": {},
   "outputs": [],
   "source": [
    "horas1 = 48\n",
    "horas2 = 9\n",
    "horas3 = 3\n",
    "sueldo1 = 4800\n",
    "sueldo2 = 1800\n",
    "sueldo3 = 900\n",
    "\n",
    "horasT = horas1 + horas2 + horas3\n",
    "sueldoT = sueldo1 + sueldo2 + sueldo3\n",
    "\n",
    "print(\"Horas normales:\", horas1)\n",
    "print(\"Horas dobles:\", horas2)\n",
    "print(\"Horas triples:\", horas3)\n",
    "print(\"Horas totales:\", horasT)\n",
    "print()\n",
    "print(\"Sueldo normal:\", sueldo1)\n",
    "print(\"Sueldo doble:\", sueldo2)\n",
    "print(\"Sueldo triple:\", sueldo3)\n",
    "print(\"Sueldo total:\", sueldoT)"
   ]
  }
 ],
 "metadata": {
  "kernelspec": {
   "display_name": "Python 3",
   "language": "python",
   "name": "python3"
  },
  "language_info": {
   "codemirror_mode": {
    "name": "ipython",
    "version": 3
   },
   "file_extension": ".py",
   "mimetype": "text/x-python",
   "name": "python",
   "nbconvert_exporter": "python",
   "pygments_lexer": "ipython3",
   "version": "3.8.3"
  }
 },
 "nbformat": 4,
 "nbformat_minor": 4
}
