{
  "cells": [
    {
      "cell_type": "markdown",
      "metadata": {
        "id": "GV-tKOz2A7hR"
      },
      "source": [
        "# Dar formato a salidas en Python\n",
        "\n",
        "Existen diferentes maneras de generar salidas en los programas de Python:\n",
        "- La función `print`\n",
        "- La instrucción `sys.stdout.write` – que no veremos, al menos por el momento\n",
        "- Como valores regresados por funciones – que veremos en detalle más adelante\n",
        "- Mediante la escritura a archivos de datos – que también veremos después\n"
      ]
    },
    {
      "cell_type": "markdown",
      "metadata": {
        "id": "YoLSYu2rA7hZ"
      },
      "source": [
        "## `print`\n",
        "\n",
        "La función `print` escribe en la pantalla la expresión o expresiones que se indican. Como cualquier función, sus argumentos se escriben entre paréntesis. Si son varias expresiones las que se desean imprimir, deben separarse por comas (`,`). No es necesario que las expresiones sean del mismo tipo. Al imprimir, cada expresión aparece separada de la siguiente por un espacio, de manera\n",
        "predeterminada.\n",
        "\n",
        "Si se desea omitir el espacio, pueden concatenarse las expresiones, en lugar de indicarlas como una lista separada por comas. Ejecuta la siguiente celda de código y compara la salida de las dos instrucciones `print`:"
      ]
    },
    {
      "cell_type": "code",
      "execution_count": null,
      "metadata": {
        "id": "hjLK98M6A7hb"
      },
      "outputs": [],
      "source": [
        "x = \"uno\"\n",
        "y = \"dos\"\n",
        "z = \"tres\"\n",
        "print(\"Primer print: \", x, y, z)\n",
        "print(\"Segundo print:\", x + y + z)"
      ]
    },
    {
      "cell_type": "markdown",
      "metadata": {
        "id": "VtCc3eLhA7hf"
      },
      "source": [
        "---\n",
        "**Contesta**: ¿Qué notaste de diferencia? ¿A qué se debe?\n",
        "\n"
      ]
    },
    {
      "cell_type": "markdown",
      "metadata": {
        "id": "Ez6vKbpCA7hf"
      },
      "source": [
        "**Respuesta**: "
      ]
    },
    {
      "cell_type": "markdown",
      "metadata": {
        "id": "0CZFIIMKBa4P"
      },
      "source": [
        "---"
      ]
    },
    {
      "cell_type": "markdown",
      "metadata": {
        "id": "EXNpJtHaA7hg"
      },
      "source": [
        "No se pueden concatenar números con texto. Para concatenar valores numéricos, hay que hacer la conversión de tipos antes:"
      ]
    },
    {
      "cell_type": "code",
      "execution_count": null,
      "metadata": {
        "id": "hhva-r5VA7hh"
      },
      "outputs": [],
      "source": [
        "alumno = \"Hermeregildo\"\n",
        "edad = 21\n",
        "print(\"La edad de \" + alumno + \" es \" + str(edad) + \" años.\")"
      ]
    },
    {
      "cell_type": "markdown",
      "metadata": {
        "id": "qUSkWZkEA7hi"
      },
      "source": [
        "---\n",
        "**Contesta**:¿Para que sirve la función `str`? ¿Para qué se usa aquí?"
      ]
    },
    {
      "cell_type": "markdown",
      "metadata": {
        "id": "aNayRWmvA7hj"
      },
      "source": [
        "**Respuesta**: "
      ]
    },
    {
      "cell_type": "markdown",
      "metadata": {
        "id": "lqfUZRanBs9k"
      },
      "source": [
        "---"
      ]
    },
    {
      "cell_type": "markdown",
      "metadata": {
        "id": "vFTk920mA7hj"
      },
      "source": [
        "Una alternativa que ofrece la instrucción `print` es usar el parámetro opcional `sep` para indicar que no se desea el espacio extra entre cada una de las expresiones impresas. La segunda instrucción `print`en la celda de abajo utiliza la *cadena nula* como separador:"
      ]
    },
    {
      "cell_type": "code",
      "execution_count": null,
      "metadata": {
        "id": "oVapPCauA7hk"
      },
      "outputs": [],
      "source": [
        "x = 'uno'\n",
        "y = 'dos'\n",
        "z = 'tres'\n",
        "print('Con espacios:', x, y, z)\n",
        "print('Sin espacios:', x, y, z, sep='')"
      ]
    },
    {
      "cell_type": "markdown",
      "metadata": {
        "id": "7OV_cgXjA7hk"
      },
      "source": [
        "---\n",
        "**Modifica el código** de la siguiente celda, utilizando el parámetro `sep`, para que los valores impresos se separen por dos asteriscos con un guión enmedio (`*-*`):"
      ]
    },
    {
      "cell_type": "code",
      "execution_count": null,
      "metadata": {
        "id": "PnfGQOR_A7hk"
      },
      "outputs": [],
      "source": [
        "print(x, y, z, sep=\"?\")"
      ]
    },
    {
      "cell_type": "markdown",
      "metadata": {
        "id": "rHsDTtl2Cr4w"
      },
      "source": [
        "---"
      ]
    },
    {
      "cell_type": "markdown",
      "metadata": {
        "id": "iHRYSG8RA7hl"
      },
      "source": [
        "En Python, hay *secuencias de escape*, que son cadenas que se utilizan para representar valores especiales. Por ejemplo, la cadena `\"\\n\"` representa un salto de línea o cambio de renglón, la cadena `\"\\t\"` representa un tabulador, etc.\n",
        "\n",
        "¿Cómo crees que se impriman los valores en la siguiente instrucción `print`? Ejecuta la celda y verifica tu observación."
      ]
    },
    {
      "cell_type": "code",
      "execution_count": null,
      "metadata": {
        "id": "C_QwEgdmA7hl"
      },
      "outputs": [],
      "source": [
        "alumno = \"Ernestina\"\n",
        "edad = 22\n",
        "calificacion = 90\n",
        "print(alumno, edad, calificacion, sep=\"\\n\")"
      ]
    },
    {
      "cell_type": "markdown",
      "metadata": {
        "id": "tmzUuDXyA7hl"
      },
      "source": [
        "---\n",
        "**Modifica el código** de la siguiente celda para que los valores se impriman a doble espacio (un renglón en blanco entre cada renglón impreso)."
      ]
    },
    {
      "cell_type": "code",
      "execution_count": null,
      "metadata": {
        "id": "tmOWtZfOA7hl"
      },
      "outputs": [],
      "source": [
        "print(alumno, edad, calificacion, sep=\"\\n\")"
      ]
    },
    {
      "cell_type": "markdown",
      "metadata": {
        "id": "Geqkq5EKCwMS"
      },
      "source": [
        "---"
      ]
    },
    {
      "cell_type": "markdown",
      "metadata": {
        "id": "zGMhmrqEA7hm"
      },
      "source": [
        "Como has observado a través del curso, `print` cambia de línea después de ejecutarse, es decir, cada `print` sucesivo imprime en un nuevo renglón. Si no se desea el cambio de línea, se puede especificar el parámetro `end`:"
      ]
    },
    {
      "cell_type": "code",
      "execution_count": null,
      "metadata": {
        "id": "srf-pBOAA7hm"
      },
      "outputs": [],
      "source": [
        "print('uno', end ='')\n",
        "print('dos', end ='.')\n",
        "print('tres', end ='-*-')\n",
        "print('cuatro')\n",
        "print('cinco')"
      ]
    },
    {
      "cell_type": "markdown",
      "metadata": {
        "id": "UiuDUAZIA7hm"
      },
      "source": [
        "---\n",
        "**Contesta**: ¿Por qué si el `print('cuatro')` no tiene parámetro `end` la cadena `cuatro` no aparece en su propio renglón como en el caso del `print('cinco')`? ¿Puedes explicar qué pasó? ¿Qué tendrías que hacer para que el `cuatro` apareciera en su propio renglón **sin quitar el parámetro `end`** de la instrucción `print('tres')`?"
      ]
    },
    {
      "cell_type": "markdown",
      "metadata": {
        "id": "ONACedQkA7hn"
      },
      "source": [
        "**Respuesta**: "
      ]
    },
    {
      "cell_type": "markdown",
      "metadata": {
        "id": "2ilOoOq_ClCq"
      },
      "source": [
        "---"
      ]
    },
    {
      "cell_type": "markdown",
      "metadata": {
        "id": "6PYNXv_4A7hn"
      },
      "source": [
        "## Interpolación de texto\n",
        "\n",
        "Se puede controlar de manera más específica el formato de la salida utilizando varios métodos. El propósito de estos métodos es introducir el valor de variables dentro de expresiones de texto y se llama interpolación de texto."
      ]
    },
    {
      "cell_type": "markdown",
      "metadata": {
        "id": "AtHmXrtzA7hn"
      },
      "source": [
        "### Operador `%`\n",
        "\n",
        "Uno de los métodos más antíguos de interpolación de texto es el operador `%`. Observa el siguiente ejemplo:"
      ]
    },
    {
      "cell_type": "code",
      "execution_count": null,
      "metadata": {
        "id": "03NJUTlqA7hn"
      },
      "outputs": [],
      "source": [
        "nombre = 'Juan'\n",
        "edad = 22\n",
        "info = 'La edad de %s es de %d años.' % (nombre, edad)\n",
        "print(info)"
      ]
    },
    {
      "cell_type": "markdown",
      "metadata": {
        "id": "drPpS8QtA7hn"
      },
      "source": [
        "El operador `%` se coloca entre dos operandos: El de la izquierda es un valor de texto que contiene *marcadores* (indicados con el signo de porcentaje y una letra) que serán reemplazados por valores tomados del operando de la derecha.\n",
        "\n",
        "El operando de la derecha es una *tupla*, es decir, una serie de valores, indicados entre paréntesis y separados por comas. Debe haber tantos elementos en la tupla como marcadores reemplazables haya en la cadena.\n",
        "\n",
        "El marcador `%s` se usa para indicar valores de texto, y el `%d`, para enteros. También existe el marcador `%f` para números `float`."
      ]
    },
    {
      "cell_type": "markdown",
      "metadata": {
        "id": "2b0j62JjA7ho"
      },
      "source": [
        "---\n",
        "**Contesta**: ¿Qué valor reemplazó al marcador `%s` en la celda de arriba?\n"
      ]
    },
    {
      "cell_type": "markdown",
      "metadata": {
        "id": "y-rqFhsAA7ho"
      },
      "source": [
        "**Respuesta**: "
      ]
    },
    {
      "cell_type": "markdown",
      "metadata": {
        "id": "Ag2YBJFSDOPn"
      },
      "source": [
        "---"
      ]
    },
    {
      "cell_type": "markdown",
      "metadata": {
        "id": "BKNnJSsJA7ho"
      },
      "source": [
        "---\n",
        "**Contesta**: ¿Qué valor reemplazó al marcador `%d` en la celda de arriba?"
      ]
    },
    {
      "cell_type": "markdown",
      "metadata": {
        "id": "11yZAiXNA7ho"
      },
      "source": [
        "**Respuesta**: "
      ]
    },
    {
      "cell_type": "markdown",
      "metadata": {
        "id": "E_x_XQb2DMOP"
      },
      "source": [
        "---"
      ]
    },
    {
      "cell_type": "markdown",
      "metadata": {
        "id": "supyVL9MA7ho"
      },
      "source": [
        "### Método `format` de la clase `str`\n",
        "\n",
        "Otro método, más moderno, es el método `format` de la clase `str`. Observa el siguiente ejemplo:"
      ]
    },
    {
      "cell_type": "code",
      "execution_count": null,
      "metadata": {
        "id": "L6Su9crSA7hp"
      },
      "outputs": [],
      "source": [
        "nombre = 'Juan'\n",
        "edad = 22\n",
        "info = 'La edad de {} es de {} años.'.format(nombre, edad)\n",
        "print(info)"
      ]
    },
    {
      "cell_type": "markdown",
      "metadata": {
        "id": "yZlaOWj3A7hp"
      },
      "source": [
        "`format` es un método y, como tal, primero se escribe el valor de texto, enseguida un punto (`.`), la palabra `format` y, entre paréntesis, los argumentos, que, en este caso, son los valores a interpolar en la cadena de texto."
      ]
    },
    {
      "cell_type": "markdown",
      "metadata": {
        "id": "NEYEN9stA7hq"
      },
      "source": [
        "---\n",
        "**Contesta**: ¿Qué función crees que tengan las llaves (`{}`) en el código de la celda de arriba?"
      ]
    },
    {
      "cell_type": "markdown",
      "metadata": {
        "id": "X2g0sRKKA7hq"
      },
      "source": [
        "**Respuesta**: "
      ]
    },
    {
      "cell_type": "markdown",
      "metadata": {
        "id": "XeagYnrZDjXD"
      },
      "source": [
        "---"
      ]
    },
    {
      "cell_type": "markdown",
      "metadata": {
        "id": "VJ1UnMTjA7hq"
      },
      "source": [
        "### *f-strings*\n",
        "\n",
        "No usaremos el operador `%` ni el método `format` de la clase `str`. Únicamente se mencionan para que los conozcan y los sepan interpretar correctamente por si, al buscar en internet, se encuentran código antiguo que los utilice.\n",
        "\n",
        "A partir de la versión 3.6 de Python, existe un método más moderno y sencillo de utilizar, que es el que usaremos. Se trata de las literales de texto con formato (también llamadas \"cadenas f\" o \"*f-strings*\").\n",
        "\n",
        "Observa el siguiente ejemplo:"
      ]
    },
    {
      "cell_type": "code",
      "execution_count": null,
      "metadata": {
        "id": "0LwJpKSaA7hr"
      },
      "outputs": [],
      "source": [
        "nombre = 'Juan'\n",
        "edad = 22\n",
        "info = f'La edad de {nombre} es de {edad} años.'\n",
        "print(info)"
      ]
    },
    {
      "cell_type": "markdown",
      "metadata": {
        "id": "0WAxgqzWA7hr"
      },
      "source": [
        "Como puedes observar, este método de interpolación de texto es más sencillo, directo y conciso.\n",
        "\n",
        "Para utilizar literales de texto con formato (*f-strings*), se debe colocar una letra `f` (puede ser mayúscula o minúscula), antes de las comillas (dobles o sencillas) de apertura de la literal de texto y, dentro del texto, indicar entre llaves las expresiones que se evaluarán y sustituirán en tiempo de ejecución.\n",
        "\n",
        "Es importante recalcar que dentro de las llaves se pueden poner cualesquier expresiones arbitrarias, no únicamente nombres de variables."
      ]
    },
    {
      "cell_type": "markdown",
      "metadata": {
        "id": "3lnLA3bxA7hr"
      },
      "source": [
        "---\n",
        "**Modifica el código** de la siguiente celda, utilizando *f-strings*, para que imprima el resultado con este formato:\n",
        "    \n",
        "    El área de un círculo de radio ... es ..."
      ]
    },
    {
      "cell_type": "code",
      "execution_count": null,
      "metadata": {
        "id": "6lrZJRE1A7hs"
      },
      "outputs": [],
      "source": [
        "from math import pi\n",
        "radio = 5\n",
        "area = pi * radio ** 2\n",
        "print(\"Área: \", area)"
      ]
    },
    {
      "cell_type": "markdown",
      "metadata": {
        "id": "vXU34KSdEEYq"
      },
      "source": [
        "---"
      ]
    },
    {
      "cell_type": "markdown",
      "metadata": {
        "id": "KLnvdkDLA7hy"
      },
      "source": [
        "Mencionamos que dentro de las llaves se puede poner cualquier expresión, no únicamente nombres de variables. Vamos a usarlo enseguida para imprimir varias potencias de 10:"
      ]
    },
    {
      "cell_type": "code",
      "execution_count": null,
      "metadata": {
        "id": "mh9LfzXFA7hy"
      },
      "outputs": [],
      "source": [
        "x = 10\n",
        "print(f\"Primera potencia: {x}\")\n",
        "print(f\"Segunda potencia: {x**2}\")\n",
        "print(f\"Tercera potencia: {x**3}\")\n",
        "print(f\"Cuarta potencia:  {x**4}\")"
      ]
    },
    {
      "cell_type": "markdown",
      "metadata": {
        "id": "ZQjOeyPwA7hy"
      },
      "source": [
        "Puedes observar que las expresiones dentro de las llaves en la *f-string* se evalúan antes de imprimirse.\n",
        "\n",
        "De cualquier forma, la manera como se alinean los valores en el ejemplo precedente no es la más óptima para mostrar números.\n",
        "\n",
        "¡Pero estamos hablando de darle formato a las salidas! Así que no hay problema. Las *f-strings* nos permiten indicar, además de la expresión a interpolar, un código que nos indica el formato que se aplicará a la cadena.\n",
        "\n",
        "Dentro de las llaves, se escribe la expresión a evaluar, seguida de dos puntos (`:`) y el código de formato.\n",
        "\n",
        "Observa el siguiente ejemplo:"
      ]
    },
    {
      "cell_type": "code",
      "execution_count": null,
      "metadata": {
        "id": "VOCHIcrPA7hz"
      },
      "outputs": [],
      "source": [
        "x = 10\n",
        "print(f\"Primera potencia: {x:5d}\")\n",
        "print(f\"Segunda potencia: {x**2:5d}\")\n",
        "print(f\"Tercera potencia: {x**3:5d}\")\n",
        "print(f\"Cuarta potencia:  {x**4:5d}\")"
      ]
    },
    {
      "cell_type": "markdown",
      "metadata": {
        "id": "pMqo6ChVA7hz"
      },
      "source": [
        "¿Observas cómo se alínean ahora los valores?\n",
        "\n",
        "Ya vimos, cuando hablamos del operador `%`, que la letra `d` se utiliza para indicar valores enteros y que los dos puntos (`:`) se utilizan para separar el código de formato de la expresión a evaluar pero..."
      ]
    },
    {
      "cell_type": "markdown",
      "metadata": {
        "id": "6QOW4dvDA7hz"
      },
      "source": [
        "---\n",
        "**Contesta**: ¿Qué papel crees que desempeña el número `5` en el código de formato del ejemplo (`:5d`)? Si observas y analizas con atención la salida, lo podrás deducir."
      ]
    },
    {
      "cell_type": "markdown",
      "metadata": {
        "id": "Ln5nrC_qA7hz"
      },
      "source": [
        "**Respuesta**: "
      ]
    },
    {
      "cell_type": "markdown",
      "metadata": {
        "id": "_eu_Zdc3Ed2T"
      },
      "source": [
        "---"
      ]
    },
    {
      "cell_type": "markdown",
      "metadata": {
        "id": "BTD1GzgEA7h0"
      },
      "source": [
        "También podemos incluir en el formato comas separadoras de miles. Observa:"
      ]
    },
    {
      "cell_type": "code",
      "execution_count": null,
      "metadata": {
        "id": "PZzR6chpA7h0"
      },
      "outputs": [],
      "source": [
        "x = 10\n",
        "print(f\"Primera potencia: {x   :9,d}\")\n",
        "print(f\"Segunda potencia: {x**2:9,d}\")\n",
        "print(f\"Tercera potencia: {x**3:9,d}\")\n",
        "print(f\"Cuarta potencia:  {x**4:9,d}\")\n",
        "print(f\"Quinta potencia:  {x**5:9,d}\")\n",
        "print(f\"Sexta potencia:   {x**6:9,d}\")"
      ]
    },
    {
      "cell_type": "markdown",
      "metadata": {
        "id": "RqTV3er1A7h0"
      },
      "source": [
        "---\n",
        "**Contesta**: ¿Qué carácter utilizamos para poner comas separadoras de miles y dónde se coloca?"
      ]
    },
    {
      "cell_type": "markdown",
      "metadata": {
        "id": "4TEnLvFoA7h0"
      },
      "source": [
        "**Respuesta**: "
      ]
    },
    {
      "cell_type": "markdown",
      "metadata": {
        "id": "4QZdOQ0gEjyE"
      },
      "source": [
        "---"
      ]
    },
    {
      "cell_type": "markdown",
      "metadata": {
        "id": "s6L-a3lvA7h1"
      },
      "source": [
        "Ya mencionábamos arriba que la letra `f` la usábamos para indicar valores `float` en una expresión a interpolar. Para los valores `float`, también podemos indicar cuántos decimales deseamos. Observa:"
      ]
    },
    {
      "cell_type": "code",
      "execution_count": null,
      "metadata": {
        "id": "p9twC5b-A7h1"
      },
      "outputs": [],
      "source": [
        "x = 10\n",
        "print(f\"Primera potencia: {x   :9,.2f}\")\n",
        "print(f\"Segunda potencia: {x**2:9,.2f}\")\n",
        "print(f\"Tercera potencia: {x**3:9,.2f}\")\n",
        "print(f\"Cuarta potencia:  {x**4:9,.2f}\")"
      ]
    },
    {
      "cell_type": "markdown",
      "metadata": {
        "id": "hBcE9AefA7h1"
      },
      "source": [
        "---\n",
        "**Contesta**: ¿Qué agregamos para indicar los decimales?"
      ]
    },
    {
      "cell_type": "markdown",
      "metadata": {
        "id": "0J3QiMlzA7h2"
      },
      "source": [
        "**Respuesta**: "
      ]
    },
    {
      "cell_type": "markdown",
      "metadata": {
        "id": "NCl-3h-eEqoI"
      },
      "source": [
        "---"
      ]
    },
    {
      "cell_type": "markdown",
      "metadata": {
        "id": "I30N7x3gA7h3"
      },
      "source": [
        "---\n",
        "**Contesta**: Los puntos y comas en los números impresos, ¿cuentan para tomar en cuenta el ancho del campo de impresión?"
      ]
    },
    {
      "cell_type": "markdown",
      "metadata": {
        "id": "W-2KmEMuA7h3"
      },
      "source": [
        "**Respuesta**: "
      ]
    },
    {
      "cell_type": "markdown",
      "metadata": {
        "id": "Z9VHUoXmExYG"
      },
      "source": [
        "---"
      ]
    },
    {
      "cell_type": "markdown",
      "metadata": {
        "id": "-UQhGJBwE79B"
      },
      "source": [
        "---\n",
        "**Modifica el código** de la siguiente celda para que el resultado se imprima con tres decimales."
      ]
    },
    {
      "cell_type": "code",
      "execution_count": null,
      "metadata": {
        "id": "E8Lc2juDA7h4"
      },
      "outputs": [],
      "source": [
        "from math import pi\n",
        "radio = 5\n",
        "area = pi * radio ** 2\n",
        "print(\"Área: \", area)"
      ]
    },
    {
      "cell_type": "markdown",
      "metadata": {
        "id": "eayr3cVhFChm"
      },
      "source": [
        "---"
      ]
    },
    {
      "cell_type": "markdown",
      "metadata": {
        "id": "CBuWRm5WA7h4"
      },
      "source": [
        "Las *f-string* son muy versátiles.\n",
        "\n",
        "Permiten también rellenar con ceros a la izquierda:"
      ]
    },
    {
      "cell_type": "code",
      "execution_count": null,
      "metadata": {
        "id": "vkA6MPmKA7h5"
      },
      "outputs": [],
      "source": [
        "x = 10\n",
        "print(f\"Primera potencia: {x   :09,.2f}\")\n",
        "print(f\"Segunda potencia: {x**2:09,.2f}\")\n",
        "print(f\"Tercera potencia: {x**3:09,.2f}\")\n",
        "print(f\"Cuarta potencia:  {x**4:09,.2f}\")"
      ]
    },
    {
      "cell_type": "markdown",
      "metadata": {
        "id": "UP6JdfjeA7h5"
      },
      "source": [
        "O, en valores de texto, especificar la alineación:"
      ]
    },
    {
      "cell_type": "code",
      "execution_count": null,
      "metadata": {
        "id": "iW-f4FkmA7h5"
      },
      "outputs": [],
      "source": [
        "# Sí notas que los tres guiones son sólo para que se note la alineación\n",
        "# de los textos impresos, ¿verdad?\n",
        "print(f\"---{'a la izquierda':<25}---\")\n",
        "print(f\"---{'a la derecha':>25}---\")\n",
        "print(f\"---{'centrado':^25}---\")"
      ]
    },
    {
      "cell_type": "markdown",
      "metadata": {
        "id": "CB0gq8zZA7h6"
      },
      "source": [
        "En el ejemplo anterior vemos dos cosas: que entre las expresiones dentro de las llaves también podemos\n",
        "incluir literales, y la ventaja de que en Python se puedan usar comillas o apóstrofes como delimitadores de valores literales de texto."
      ]
    },
    {
      "cell_type": "markdown",
      "metadata": {},
      "source": [
        "---\n",
        "**Contesta**: ¿Por qué decimos que el ejemplo anterior muestra la ventaja de poder usar comillas o apóstrofes como delimitadores de texto? ¿Qué pasa si usas puras comillas o puros apóstrofes? ¿Por qué será que pasa eso?"
      ]
    },
    {
      "cell_type": "markdown",
      "metadata": {},
      "source": [
        "**Respuesta**: "
      ]
    },
    {
      "cell_type": "markdown",
      "metadata": {},
      "source": [
        "---"
      ]
    },
    {
      "cell_type": "markdown",
      "metadata": {
        "id": "b2kCHtaOA7h6"
      },
      "source": [
        "---\n",
        "**Contesta**: ¿Qué carácter se utiliza para alinear a la izquierda?"
      ]
    },
    {
      "cell_type": "markdown",
      "metadata": {
        "id": "IJCTpkJwA7h6"
      },
      "source": [
        "**Respuesta**: "
      ]
    },
    {
      "cell_type": "markdown",
      "metadata": {
        "id": "I2v9zGhJFQ4t"
      },
      "source": [
        "---"
      ]
    },
    {
      "cell_type": "markdown",
      "metadata": {
        "id": "UCXjIjamA7h7"
      },
      "source": [
        "---\n",
        "**Contesta**: ¿Qué carácter se utiliza para alinear a la derecha?"
      ]
    },
    {
      "cell_type": "markdown",
      "metadata": {
        "id": "rzWIqNQZA7h7"
      },
      "source": [
        "**Respuesta**: "
      ]
    },
    {
      "cell_type": "markdown",
      "metadata": {
        "id": "7bHLy-EgFWnb"
      },
      "source": [
        "---"
      ]
    },
    {
      "cell_type": "markdown",
      "metadata": {
        "id": "l8sDv-O-A7h7"
      },
      "source": [
        "---\n",
        "**Contesta**: ¿Qué carácter se utiliza para centrar?"
      ]
    },
    {
      "cell_type": "markdown",
      "metadata": {
        "id": "f22LygNeA7h8"
      },
      "source": [
        "**Respuesta**: "
      ]
    },
    {
      "cell_type": "markdown",
      "metadata": {
        "id": "nANw1s64FeKz"
      },
      "source": [
        "---"
      ]
    },
    {
      "cell_type": "markdown",
      "metadata": {
        "id": "0_XA7wdzA7h8"
      },
      "source": [
        "---\n",
        "**Contesta**: ¿Qué función tiene el número 25 en los ejemplos de arriba?"
      ]
    },
    {
      "cell_type": "markdown",
      "metadata": {
        "id": "M3oSA775A7h8"
      },
      "source": [
        "**Respuesta**: "
      ]
    },
    {
      "cell_type": "markdown",
      "metadata": {
        "id": "4Gi7B1jXFkGP"
      },
      "source": [
        "---"
      ]
    },
    {
      "cell_type": "markdown",
      "metadata": {},
      "source": [
        "Se pueden incluir también caracteres de relleno en el formato. Observa:"
      ]
    },
    {
      "cell_type": "code",
      "execution_count": null,
      "metadata": {
        "id": "oExkX0vBA7h6"
      },
      "outputs": [],
      "source": [
        "print(f\"---{'a la izquierda':#<25}---\")\n",
        "print(f\"---{'a la derecha':#>25}---\")\n",
        "print(f\"---{'centrado':#^25}---\")"
      ]
    },
    {
      "cell_type": "markdown",
      "metadata": {},
      "source": [
        "---\n",
        "**Contesta**: ¿Cuál es el carácter de relleno en los ejemplos de arriba?"
      ]
    },
    {
      "cell_type": "markdown",
      "metadata": {},
      "source": [
        "**Respuesta**: "
      ]
    },
    {
      "cell_type": "markdown",
      "metadata": {},
      "source": [
        "---"
      ]
    },
    {
      "cell_type": "markdown",
      "metadata": {},
      "source": [
        "---\n",
        "**Modifica el código** de la siguiente celda para mostrar el título centrado dentro de un rectángulo de asteriscos de 60 caracteres de ancho y que funcione independientemente del valor de la variable."
      ]
    },
    {
      "cell_type": "code",
      "execution_count": null,
      "metadata": {},
      "outputs": [],
      "source": [
        "titulo = \"Título\"\n",
        "print(\"****************\")\n",
        "print(f\"* {titulo}       *\")\n",
        "print(\"****************\")"
      ]
    },
    {
      "cell_type": "markdown",
      "metadata": {},
      "source": [
        "---"
      ]
    },
    {
      "cell_type": "markdown",
      "metadata": {
        "id": "VjKhGFgVA7h8"
      },
      "source": [
        "Si se quieren incluir las llaves dentro de la parte literal de una *f-string*, hay que ponerlas dobles: `{{` y `}}`.\n",
        "\n",
        "También se pueden anidar las llaves un nivel, lo que permite usar expresiones en la definición del formato, por ejemplo, en lugar de codificar así:"
      ]
    },
    {
      "cell_type": "code",
      "execution_count": null,
      "metadata": {
        "id": "m7FAm2OjA7h9"
      },
      "outputs": [],
      "source": [
        "from math import pi\n",
        "print(f\"pi:    {pi   :9.5f}\")\n",
        "print(f\"pi^2:  {pi**2:9.5f}\")\n",
        "print(f\"pi^3:  {pi**3:9.5f}\")\n",
        "print(f\"pi^4:  {pi**4:9.5f}\")\n",
        "print(f\"pi^5:  {pi**5:9.5f}\")"
      ]
    },
    {
      "cell_type": "markdown",
      "metadata": {
        "id": "wPRuwAnEA7h-"
      },
      "source": [
        "Podemos codificar así:"
      ]
    },
    {
      "cell_type": "code",
      "execution_count": null,
      "metadata": {
        "id": "kpMe2ALQA7h-"
      },
      "outputs": [],
      "source": [
        "from math import pi\n",
        "ANCHO = 9\n",
        "DECIMALES = 5\n",
        "print(f\"pi:    {pi   :{ANCHO}.{DECIMALES}f}\")\n",
        "print(f\"pi^2:  {pi**2:{ANCHO}.{DECIMALES}f}\")\n",
        "print(f\"pi^3:  {pi**3:{ANCHO}.{DECIMALES}f}\")\n",
        "print(f\"pi^4:  {pi**4:{ANCHO}.{DECIMALES}f}\")\n",
        "print(f\"pi^5:  {pi**5:{ANCHO}.{DECIMALES}f}\")"
      ]
    },
    {
      "cell_type": "markdown",
      "metadata": {
        "id": "46hwBKYiA7h_"
      },
      "source": [
        "---\n",
        "**Copia el código** de las dos celdas de arriba en las dos celdas de abajo y **modifícalo** para cambiar la visualización de las potencias de $\\pi$ y que se muestren con ocho decimales en lugar de cinco. Es posible que también tengas que cambiar el ancho del campo para que las cifras se sigan alineando correctamente por su punto decimal.\n",
        "\n",
        "---"
      ]
    },
    {
      "cell_type": "code",
      "execution_count": null,
      "metadata": {},
      "outputs": [],
      "source": [
        "# Copia aquí el código de la primera celda"
      ]
    },
    {
      "cell_type": "code",
      "execution_count": null,
      "metadata": {},
      "outputs": [],
      "source": [
        "# Copia aquí el código de la segunda celda"
      ]
    },
    {
      "cell_type": "markdown",
      "metadata": {
        "id": "Ww85dgcnA7h_"
      },
      "source": [
        "---\n",
        "**Contesta**: Cuando tienes que modificar código, ¿qué implicaciones tiene el que hayas parametrizado los valores, o sea, estableciendo constantes al inicio del código, como en el segundo ejemplo, a diferencia del primer ejemplo, en el que los valores literales se usaron directamente?"
      ]
    },
    {
      "cell_type": "markdown",
      "metadata": {
        "id": "mvETLvS7A7iA"
      },
      "source": [
        "**Respuesta**: "
      ]
    },
    {
      "cell_type": "markdown",
      "metadata": {
        "id": "xLBg2T8iGdJg"
      },
      "source": [
        "---"
      ]
    },
    {
      "cell_type": "markdown",
      "metadata": {
        "id": "x_JXwqYBA7iA"
      },
      "source": []
    },
    {
      "cell_type": "markdown",
      "metadata": {
        "id": "QjzdIEqmA7iA"
      },
      "source": [
        "### Minilenguaje para la especificación de formato\n",
        "\n",
        "Las opciones de formato con *f-strings* son más amplias de lo que se ha expuesto aquí. Por ejemplo, además de los indicadores de tipo `d` (entero), `f` (real) y `s` (cadena de texto), se pueden utilizar los siguientes:\n",
        "\n",
        "- `E` (notación científica),\n",
        "- `%` (porcentaje),\n",
        "- `b` (convertir a binario),\n",
        "- `X` (convertir a hexadecimal),\n",
        "\n",
        "entre otros.\n",
        "\n",
        "De hecho, las especificaciones de formato para las *f-strings* tienen su propio \"minilenguaje\". La siguiente tabla muestra de forma resumida la sintaxis de este minilenguaje y su explicación la puedes encontrar en la documentación oficial de Python: (https://docs.python.org/3/library/string.html#formatspec).\n",
        "\n",
        "||`[[fill]align][sign][#][0][width][,][.precision][type]`|\n",
        "|:-|:-|\n",
        "| `fill` | <cualquier carácter> |\n",
        "| `align`| `\"<\" \\| \">\" \\| \"=\" \\| \"^\"`|\n",
        "| `sign` | `\"+\" \\| \"-\" \\| \" \" `|\n",
        "| `width`| entero |\n",
        "| `precision` | entero |\n",
        "| `type` | `\"b\" \\| \"c\" \\| \"d\" \\| \"e\" \\| \"E\" \\| \"f\" \\| \"F\" \\| \"g\" \\| \"G\" \\|`<br>`\"n\" \\| \"o\" \\| \"s\" \\| \"x\" \\| \"X\" \\| \"%\"` |"
      ]
    },
    {
      "cell_type": "markdown",
      "metadata": {
        "id": "9XgzYFtgA7iB"
      },
      "source": [
        "---\n",
        "\n",
        "## Ejercicio final\n",
        "\n",
        "**Modifica el código** de la celda de abajo utilizando interpolación de texto con _f-strings_ para generar la salida con el siguiente formato:\n",
        "\n",
        "\n",
        "                    Horas      Importe\n",
        "    Sueldo normal      48     4,800.00\n",
        "    Sueldo doble        9     1,800.00\n",
        "    Sueldo triple       3       900.00\n",
        "    Total              60     7,500.00\n",
        "\n",
        "Prueba que también funcione cuando cambies el valor de las variables. Por ejemplo, verifica que usando los siguientes valores se mantenga la alineación:\n",
        "\n",
        "```python\n",
        "horas1 = 240\n",
        "horas2 = 27\n",
        "horas3 = 11\n",
        "sueldo = 345\n",
        "```"
      ]
    },
    {
      "cell_type": "code",
      "execution_count": 13,
      "metadata": {
        "id": "6kXLAIlKA7iB"
      },
      "outputs": [
        {
          "name": "stdout",
          "output_type": "stream",
          "text": [
            "Horas normales: 48\n",
            "Horas dobles: 9\n",
            "Horas triples: 3\n",
            "Horas totales: 60\n",
            "\n",
            "Sueldo normal: 4800\n",
            "Sueldo doble: 1800\n",
            "Sueldo triple: 900\n",
            "Sueldo total: 7500\n"
          ]
        }
      ],
      "source": [
        "horas1 = 48\n",
        "horas2 = 9\n",
        "horas3 = 3\n",
        "sueldo = 100\n",
        "\n",
        "sueldo1 = horas1 * sueldo\n",
        "sueldo2 = horas2 * sueldo * 2\n",
        "sueldo3 = horas3 * sueldo * 3\n",
        "\n",
        "horasT = horas1 + horas2 + horas3\n",
        "sueldoT = sueldo1 + sueldo2 + sueldo3\n",
        "\n",
        "print(\"Horas normales:\", horas1)\n",
        "print(\"Horas dobles:\", horas2)\n",
        "print(\"Horas triples:\", horas3)\n",
        "print(\"Horas totales:\", horasT)\n",
        "print()\n",
        "print(\"Sueldo normal:\", sueldo1)\n",
        "print(\"Sueldo doble:\", sueldo2)\n",
        "print(\"Sueldo triple:\", sueldo3)\n",
        "print(\"Sueldo total:\", sueldoT)"
      ]
    },
    {
      "cell_type": "markdown",
      "metadata": {
        "id": "NFHjWh_dG4CQ"
      },
      "source": [
        "---"
      ]
    }
  ],
  "metadata": {
    "colab": {
      "provenance": []
    },
    "interpreter": {
      "hash": "1e5a504a27c91785cc20fa5894256130d97c1764e1afe7fb121f7c2e7578e171"
    },
    "kernelspec": {
      "display_name": "Python 3.9.1 64-bit",
      "name": "python3"
    },
    "language_info": {
      "codemirror_mode": {
        "name": "ipython",
        "version": 3
      },
      "file_extension": ".py",
      "mimetype": "text/x-python",
      "name": "python",
      "nbconvert_exporter": "python",
      "pygments_lexer": "ipython3",
      "version": "3.10.9"
    }
  },
  "nbformat": 4,
  "nbformat_minor": 0
}
