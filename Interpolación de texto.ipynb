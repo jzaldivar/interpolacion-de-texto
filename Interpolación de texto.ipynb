{
  "cells": [
    {
      "cell_type": "markdown",
      "source": [
        "# Dar formato a salidas en Python\n",
        "\n",
        "Existen diferentes maneras de generar salidas en los programas de Python:\n",
        "- La función `print`\n",
        "- La instrucción `sys.stdout.write` – que no veremos, al menos por el momento\n",
        "- Como valores regresados por funciones – que veremos en detalle más adelante\n",
        "- Mediante la escritura a archivos de datos – que también veremos después\n"
      ],
      "metadata": {
        "id": "GV-tKOz2A7hR"
      }
    },
    {
      "cell_type": "markdown",
      "source": [
        "## `print`\n",
        "\n",
        "La función `print` escribe en la pantalla la expresión o expresiones que se indican. Como cualquier función, sus argumentos se escriben entre paréntesis. Si son varias expresiones las que se desean imprimir, deben separarse por comas (`,`). No es necesario que las expresiones sean del mismo tipo. Al imprimir, cada expresión aparece separada de la siguiente por un espacio, de manera\n",
        "predeterminada.\n",
        "\n",
        "Si se desea omitir el espacio, pueden concatenarse las expresiones, en lugar de indicarlas como una lista separada por comas. Ejecuta la siguiente celda de código y compara la salida de las dos instrucciones `print`:"
      ],
      "metadata": {
        "id": "YoLSYu2rA7hZ"
      }
    },
    {
      "cell_type": "code",
      "execution_count": null,
      "source": [
        "x = \"uno\"\n",
        "y = \"dos\"\n",
        "z = \"tres\"\n",
        "print(\"Primer print: \", x, y, z)\n",
        "print(\"Segundo print:\", x + y + z)"
      ],
      "outputs": [],
      "metadata": {
        "id": "hjLK98M6A7hb"
      }
    },
    {
      "cell_type": "markdown",
      "source": [
        "---\n",
        "**Contesta**: ¿Qué notaste de diferencia? ¿A qué se debe?\n",
        "\n"
      ],
      "metadata": {
        "id": "VtCc3eLhA7hf"
      }
    },
    {
      "cell_type": "markdown",
      "source": [
        "Respuesta:"
      ],
      "metadata": {
        "id": "Ez6vKbpCA7hf"
      }
    },
    {
      "cell_type": "markdown",
      "source": [
        "---"
      ],
      "metadata": {
        "id": "0CZFIIMKBa4P"
      }
    },
    {
      "cell_type": "markdown",
      "source": [
        "No se pueden concatenar números con texto. Para concatenar valores numéricos, hay que hacer la conversión de tipos antes:"
      ],
      "metadata": {
        "id": "EXNpJtHaA7hg"
      }
    },
    {
      "cell_type": "code",
      "execution_count": null,
      "source": [
        "alumno = \"Hermeregildo\"\n",
        "edad = 21\n",
        "print(\"La edad de \" + alumno + \" es \" + str(edad) + \" años.\")"
      ],
      "outputs": [],
      "metadata": {
        "id": "hhva-r5VA7hh"
      }
    },
    {
      "cell_type": "markdown",
      "source": [
        "---\n",
        "**Contesta**:¿Para que sirve la función `str`? ¿Para qué se usa aquí?"
      ],
      "metadata": {
        "id": "qUSkWZkEA7hi"
      }
    },
    {
      "cell_type": "markdown",
      "source": [
        "Respuesta:"
      ],
      "metadata": {
        "id": "aNayRWmvA7hj"
      }
    },
    {
      "cell_type": "markdown",
      "source": [
        "---"
      ],
      "metadata": {
        "id": "lqfUZRanBs9k"
      }
    },
    {
      "cell_type": "markdown",
      "source": [
        "Una alternativa que ofrece la instrucción `print` es usar el parámetro opcional `sep` para indicar que no se desea el espacio extra entre cada una de las expresiones impresas. La segunda instrucción `print`en la celda de abajo utiliza la *cadena nula* como separador:"
      ],
      "metadata": {
        "id": "vFTk920mA7hj"
      }
    },
    {
      "cell_type": "code",
      "execution_count": null,
      "source": [
        "x = 'uno'\n",
        "y = 'dos'\n",
        "z = 'tres'\n",
        "print('Con espacios:', x, y, z)\n",
        "print('Sin espacios:', x, y, z, sep='')"
      ],
      "outputs": [],
      "metadata": {
        "id": "oVapPCauA7hk"
      }
    },
    {
      "cell_type": "markdown",
      "source": [
        "---\n",
        "**Modifica el código** de la siguiente celda, utilizando el parámetro `sep`, para que los valores impresos se separen por dos asteriscos con un guión enmedio (`*-*`):"
      ],
      "metadata": {
        "id": "7OV_cgXjA7hk"
      }
    },
    {
      "cell_type": "code",
      "execution_count": null,
      "source": [
        "print(x, y, z, sep=\"?\")"
      ],
      "outputs": [],
      "metadata": {
        "id": "PnfGQOR_A7hk"
      }
    },
    {
      "cell_type": "markdown",
      "source": [
        "---"
      ],
      "metadata": {
        "id": "rHsDTtl2Cr4w"
      }
    },
    {
      "cell_type": "markdown",
      "source": [
        "En Python, hay *secuencias de escape*, que son cadenas que se utilizan para representar valores especiales. Por ejemplo, la cadena `\"\\n\"` representa un salto de línea o cambio de renglón, la cadena `\"\\t\"` representa un tabulador, etc.\n",
        "\n",
        "¿Cómo crees que se impriman los valores en la siguiente instrucción `print`? Ejecuta la celda y verifica tu observación."
      ],
      "metadata": {
        "id": "iHRYSG8RA7hl"
      }
    },
    {
      "cell_type": "code",
      "execution_count": null,
      "source": [
        "alumno = \"Ernestina\"\n",
        "edad = 22\n",
        "calificacion = 90\n",
        "print(alumno, edad, calificacion, sep=\"\\n\")"
      ],
      "outputs": [],
      "metadata": {
        "id": "C_QwEgdmA7hl"
      }
    },
    {
      "cell_type": "markdown",
      "source": [
        "---\n",
        "**Modifica el código** de la siguiente celda para que los valores se impriman a doble espacio."
      ],
      "metadata": {
        "id": "tmzUuDXyA7hl"
      }
    },
    {
      "cell_type": "code",
      "execution_count": null,
      "source": [
        "print(alumno, edad, calificacion, sep=\"\\n\")"
      ],
      "outputs": [],
      "metadata": {
        "id": "tmOWtZfOA7hl"
      }
    },
    {
      "cell_type": "markdown",
      "source": [
        "---"
      ],
      "metadata": {
        "id": "Geqkq5EKCwMS"
      }
    },
    {
      "cell_type": "markdown",
      "source": [
        "Como has observado a través del curso, `print` cambia de línea después de ejecutarse, es decir, cada `print` sucesivo imprime en un nuevo renglón. Si no se desea el cambio de línea, se puede especificar el parámetro `end`:"
      ],
      "metadata": {
        "id": "zGMhmrqEA7hm"
      }
    },
    {
      "cell_type": "code",
      "execution_count": null,
      "source": [
        "print('uno', end ='')\n",
        "print('dos', end ='.')\n",
        "print('tres', end ='-*-')\n",
        "print('cuatro')\n",
        "print('cinco')"
      ],
      "outputs": [],
      "metadata": {
        "id": "srf-pBOAA7hm"
      }
    },
    {
      "cell_type": "markdown",
      "source": [
        "---\n",
        "**Contesta***: ¿Puedes explicar qué pasó?"
      ],
      "metadata": {
        "id": "UiuDUAZIA7hm"
      }
    },
    {
      "cell_type": "markdown",
      "source": [
        "Respuesta:"
      ],
      "metadata": {
        "id": "ONACedQkA7hn"
      }
    },
    {
      "cell_type": "markdown",
      "source": [
        "---"
      ],
      "metadata": {
        "id": "2ilOoOq_ClCq"
      }
    },
    {
      "cell_type": "markdown",
      "source": [
        "## Interpolación de texto\n",
        "\n",
        "Se puede controlar de manera más específica el formato de la salida utilizando varios métodos. El propósito de estos métodos es introducir el valor de variables dentro de expresiones de texto y se llama interpolación de texto."
      ],
      "metadata": {
        "id": "6PYNXv_4A7hn"
      }
    },
    {
      "cell_type": "markdown",
      "source": [
        "### Operador `%`\n",
        "\n",
        "Uno de los métodos más antíguos de interpolación de texto es el operador `%`. Observa el siguiente ejemplo:"
      ],
      "metadata": {
        "id": "AtHmXrtzA7hn"
      }
    },
    {
      "cell_type": "code",
      "execution_count": null,
      "source": [
        "nombre = 'Juan'\n",
        "edad = 22\n",
        "info = 'La edad de %s es de %d años.' % (nombre, edad)\n",
        "print(info)"
      ],
      "outputs": [],
      "metadata": {
        "id": "03NJUTlqA7hn"
      }
    },
    {
      "cell_type": "markdown",
      "source": [
        "El operador `%` se coloca entre dos operandos: El de la izquierda es un valor de texto que contiene *marcadores* (indicados con el signo de porcentaje y una letra) que serán reemplazados por valores tomados del operando de la derecha.\n",
        "\n",
        "El operando de la derecha es una *tupla*, es decir, una serie de valores, indicados entre paréntesis y separados por comas. Debe haber tantos elementos en la tupla como marcadores reemplazables haya en la cadena.\n",
        "\n",
        "El marcador `%s` se usa para indicar valores de texto, y el `%d`, para enteros. También existe el marcador `%f` para números `float`."
      ],
      "metadata": {
        "id": "drPpS8QtA7hn"
      }
    },
    {
      "cell_type": "markdown",
      "source": [
        "---\n",
        "**Contesta**: ¿Qué valor reemplazó al marcador `%s` en la celda de arriba?\n"
      ],
      "metadata": {
        "id": "2b0j62JjA7ho"
      }
    },
    {
      "cell_type": "markdown",
      "source": [
        "Respuesta:"
      ],
      "metadata": {
        "id": "y-rqFhsAA7ho"
      }
    },
    {
      "cell_type": "markdown",
      "source": [
        "---"
      ],
      "metadata": {
        "id": "Ag2YBJFSDOPn"
      }
    },
    {
      "cell_type": "markdown",
      "source": [
        "---\n",
        "**Contesta**: ¿Qué valor reemplazó al marcador `%d` en la celda de arriba?"
      ],
      "metadata": {
        "id": "BKNnJSsJA7ho"
      }
    },
    {
      "cell_type": "markdown",
      "source": [
        "Respuesta:"
      ],
      "metadata": {
        "id": "11yZAiXNA7ho"
      }
    },
    {
      "cell_type": "markdown",
      "source": [
        "---"
      ],
      "metadata": {
        "id": "E_x_XQb2DMOP"
      }
    },
    {
      "cell_type": "markdown",
      "source": [
        "### Método `format` de la clase `str`\n",
        "\n",
        "Otro método, más moderno, es el método `format` de la clase `str`. Observa el siguiente ejemplo:"
      ],
      "metadata": {
        "id": "supyVL9MA7ho"
      }
    },
    {
      "cell_type": "code",
      "execution_count": null,
      "source": [
        "nombre = 'Juan'\n",
        "edad = 22\n",
        "info = 'La edad de {} es de {} años.'.format(nombre, edad)\n",
        "print(info)"
      ],
      "outputs": [],
      "metadata": {
        "id": "L6Su9crSA7hp"
      }
    },
    {
      "cell_type": "markdown",
      "source": [
        "`format` es un método y, como tal, primero se escribe el valor de texto, enseguida un punto (`.`), la palabra `format` y, entre paréntesis, los argumentos, que, en este caso, son los valores a interpolar en la cadena de texto."
      ],
      "metadata": {
        "id": "yZlaOWj3A7hp"
      }
    },
    {
      "cell_type": "markdown",
      "source": [
        "---\n",
        "**Contesta**: ¿Qué función crees que tengan las llaves (`{}`) en el código de la celda de arriba?"
      ],
      "metadata": {
        "id": "NEYEN9stA7hq"
      }
    },
    {
      "cell_type": "markdown",
      "source": [
        "Respuesta:"
      ],
      "metadata": {
        "id": "X2g0sRKKA7hq"
      }
    },
    {
      "cell_type": "markdown",
      "source": [
        "---"
      ],
      "metadata": {
        "id": "XeagYnrZDjXD"
      }
    },
    {
      "cell_type": "markdown",
      "source": [
        "### *f-strings*\n",
        "\n",
        "No usaremos el operador `%` ni el método `format` de la clase `str`. Únicamente se mencionan para que los conozcan y los sepan interpretar correctamente por si, al buscar en internet, se encuentran código antiguo que los utilice.\n",
        "\n",
        "A partir de la versión 3.6 de Python, existe un método más moderno y sencillo de utilizar, que es el que usaremos. Se trata de las literales de texto con formato (también llamadas \"cadenas f\" o \"*f-strings*\").\n",
        "\n",
        "Observa el siguiente ejemplo:"
      ],
      "metadata": {
        "id": "VJ1UnMTjA7hq"
      }
    },
    {
      "cell_type": "code",
      "execution_count": null,
      "source": [
        "nombre = 'Juan'\n",
        "edad = 22\n",
        "info = f'La edad de {nombre} es de {edad} años.'\n",
        "print(info)"
      ],
      "outputs": [],
      "metadata": {
        "id": "0LwJpKSaA7hr"
      }
    },
    {
      "cell_type": "markdown",
      "source": [
        "Como puedes observar, este método de interpolación de texto es más sencillo, directo y conciso.\n",
        "\n",
        "Para utilizar literales de texto con formato (*f-strings*), se debe colocar una letra `f` (puede ser mayúscula o minúscula), antes de las comillas (dobles o sencillas) de apertura de la literal de texto y, dentro del texto, indicar entre llaves las expresiones que se evaluarán y sustituirán en tiempo de ejecución.\n",
        "\n",
        "Es importante recalcar que dentro de las llaves se pueden poner cualesquier expresiones arbitrarias, no únicamente nombres de variables."
      ],
      "metadata": {
        "id": "0WAxgqzWA7hr"
      }
    },
    {
      "cell_type": "markdown",
      "source": [
        "---\n",
        "**Modifica el código** de la siguiente celda para que imprima el resultado con este formato:\n",
        "    \n",
        "    El área de un círculo de radio ... es ..."
      ],
      "metadata": {
        "id": "3lnLA3bxA7hr"
      }
    },
    {
      "cell_type": "code",
      "execution_count": null,
      "source": [
        "from math import pi\n",
        "radio = 5\n",
        "area = pi * radio ** 2\n",
        "print(\"Área: \", area)"
      ],
      "outputs": [],
      "metadata": {
        "id": "6lrZJRE1A7hs"
      }
    },
    {
      "cell_type": "markdown",
      "source": [
        "---"
      ],
      "metadata": {
        "id": "vXU34KSdEEYq"
      }
    },
    {
      "cell_type": "markdown",
      "source": [
        "Mencionamos que dentro de las llaves se puede poner cualquier expresión, no únicamente nombres de variables. Vamos a usarlo enseguida para imprimir varias potencias de 10:"
      ],
      "metadata": {
        "id": "KLnvdkDLA7hy"
      }
    },
    {
      "cell_type": "code",
      "execution_count": null,
      "source": [
        "x = 10\n",
        "print(f\"Primera potencia: {x}\")\n",
        "print(f\"Segunda potencia: {x**2}\")\n",
        "print(f\"Tercera potencia: {x**3}\")\n",
        "print(f\"Cuarta potencia:  {x**4}\")"
      ],
      "outputs": [],
      "metadata": {
        "id": "mh9LfzXFA7hy"
      }
    },
    {
      "cell_type": "markdown",
      "source": [
        "Puedes observar que las expresiones dentro de las llaves en la *f-string* se evalúan antes de imprimirse.\n",
        "\n",
        "De cualquier forma, la manera como se alinean los valores en el ejemplo precedente no es la más óptima para mostrar números.\n",
        "\n",
        "¡Pero estamos hablando de darle formato a las salidas! Así que no hay problema. Las *f-strings* nos permiten indicar, además de la expresión a interpolar, un código que nos indica el formato que se aplicará a la cadena.\n",
        "\n",
        "Dentro de las llaves, se escribe la expresión a evaluar, seguida de dos puntos (`:`) y el código de formato.\n",
        "\n",
        "Observa el siguiente ejemplo:"
      ],
      "metadata": {
        "id": "ZQjOeyPwA7hy"
      }
    },
    {
      "cell_type": "code",
      "execution_count": null,
      "source": [
        "x = 10\n",
        "print(f\"Primera potencia: {x:5d}\")\n",
        "print(f\"Segunda potencia: {x**2:5d}\")\n",
        "print(f\"Tercera potencia: {x**3:5d}\")\n",
        "print(f\"Cuarta potencia:  {x**4:5d}\")"
      ],
      "outputs": [],
      "metadata": {
        "id": "VOCHIcrPA7hz"
      }
    },
    {
      "cell_type": "markdown",
      "source": [
        "¿Observas cómo se alínean ahora los valores?\n",
        "\n",
        "Ya vimos, cuando hablamos del operador `%`, que la letra `d` se utiliza para indicar valores enteros y que los dos puntos (`:`) se utilizan para separar el código de formato de la expresión a evaluar pero..."
      ],
      "metadata": {
        "id": "pMqo6ChVA7hz"
      }
    },
    {
      "cell_type": "markdown",
      "source": [
        "---\n",
        "**Contesta**: ¿Qué papel crees que desempeña el número `5` en el código de formato del ejemplo (`:5d`)? Si observas y analizas con atención la salida, lo podrás deducir."
      ],
      "metadata": {
        "id": "6QOW4dvDA7hz"
      }
    },
    {
      "cell_type": "markdown",
      "source": [
        "Respuesta:"
      ],
      "metadata": {
        "id": "Ln5nrC_qA7hz"
      }
    },
    {
      "cell_type": "markdown",
      "source": [
        "---"
      ],
      "metadata": {
        "id": "_eu_Zdc3Ed2T"
      }
    },
    {
      "cell_type": "markdown",
      "source": [
        "También podemos incluir en el formato comas separadoras de miles. Observa:"
      ],
      "metadata": {
        "id": "BTD1GzgEA7h0"
      }
    },
    {
      "cell_type": "code",
      "execution_count": null,
      "source": [
        "x = 10\n",
        "print(f\"Primera potencia: {x   :9,d}\")\n",
        "print(f\"Segunda potencia: {x**2:9,d}\")\n",
        "print(f\"Tercera potencia: {x**3:9,d}\")\n",
        "print(f\"Cuarta potencia:  {x**4:9,d}\")\n",
        "print(f\"Quinta potencia:  {x**5:9,d}\")\n",
        "print(f\"Sexta potencia:   {x**6:9,d}\")"
      ],
      "outputs": [],
      "metadata": {
        "id": "PZzR6chpA7h0"
      }
    },
    {
      "cell_type": "markdown",
      "source": [
        "---\n",
        "**Contesta**: ¿Qué carácter utilizamos para poner comas separadoras de miles y dónde se coloca?"
      ],
      "metadata": {
        "id": "RqTV3er1A7h0"
      }
    },
    {
      "cell_type": "markdown",
      "source": [
        "Respuesta:"
      ],
      "metadata": {
        "id": "4TEnLvFoA7h0"
      }
    },
    {
      "cell_type": "markdown",
      "source": [
        "---"
      ],
      "metadata": {
        "id": "4QZdOQ0gEjyE"
      }
    },
    {
      "cell_type": "markdown",
      "source": [
        "Ya mencionábamos arriba que la letra `f` la usábamos para indicar valores `float` en una expresión a interpolar. Para los valores `float`, también podemos indicar cuántos decimales deseamos. Observa:"
      ],
      "metadata": {
        "id": "s6L-a3lvA7h1"
      }
    },
    {
      "cell_type": "code",
      "execution_count": null,
      "source": [
        "x = 10\n",
        "print(f\"Primera potencia: {x   :9,.2f}\")\n",
        "print(f\"Segunda potencia: {x**2:9,.2f}\")\n",
        "print(f\"Tercera potencia: {x**3:9,.2f}\")\n",
        "print(f\"Cuarta potencia:  {x**4:9,.2f}\")"
      ],
      "outputs": [],
      "metadata": {
        "id": "p9twC5b-A7h1"
      }
    },
    {
      "cell_type": "markdown",
      "source": [
        "---\n",
        "**Contesta**: ¿Qué agregamos para indicar los decimales?"
      ],
      "metadata": {
        "id": "hBcE9AefA7h1"
      }
    },
    {
      "cell_type": "markdown",
      "source": [
        "Respuesta:"
      ],
      "metadata": {
        "id": "0J3QiMlzA7h2"
      }
    },
    {
      "cell_type": "markdown",
      "source": [
        "---"
      ],
      "metadata": {
        "id": "NCl-3h-eEqoI"
      }
    },
    {
      "cell_type": "markdown",
      "source": [
        "---\n",
        "**Contesta**: Los puntos y comas en los números impresos, ¿cuentan para tomar en cuenta el ancho del campo de impresión?"
      ],
      "metadata": {
        "id": "I30N7x3gA7h3"
      }
    },
    {
      "cell_type": "markdown",
      "source": [
        "Respuesta:"
      ],
      "metadata": {
        "id": "W-2KmEMuA7h3"
      }
    },
    {
      "cell_type": "markdown",
      "source": [
        "---"
      ],
      "metadata": {
        "id": "Z9VHUoXmExYG"
      }
    },
    {
      "cell_type": "markdown",
      "source": [
        "---\n",
        "**Modifica el código** de la siguiente celda para que el resultado se imprima con tres decimales."
      ],
      "metadata": {
        "id": "-UQhGJBwE79B"
      }
    },
    {
      "cell_type": "code",
      "execution_count": null,
      "source": [
        "from math import pi\n",
        "radio = 5\n",
        "area = pi * radio ** 2\n",
        "print(\"Área: \", area)"
      ],
      "outputs": [],
      "metadata": {
        "id": "E8Lc2juDA7h4"
      }
    },
    {
      "cell_type": "markdown",
      "source": [
        "---"
      ],
      "metadata": {
        "id": "eayr3cVhFChm"
      }
    },
    {
      "cell_type": "markdown",
      "source": [
        "Las *f-string* son muy versátiles.\n",
        "\n",
        "Permiten también rellenar con ceros a la izquierda:"
      ],
      "metadata": {
        "id": "CBuWRm5WA7h4"
      }
    },
    {
      "cell_type": "code",
      "execution_count": null,
      "source": [
        "x = 10\n",
        "print(f\"Primera potencia: {x   :09,.2f}\")\n",
        "print(f\"Segunda potencia: {x**2:09,.2f}\")\n",
        "print(f\"Tercera potencia: {x**3:09,.2f}\")\n",
        "print(f\"Cuarta potencia:  {x**4:09,.2f}\")"
      ],
      "outputs": [],
      "metadata": {
        "id": "vkA6MPmKA7h5"
      }
    },
    {
      "cell_type": "markdown",
      "source": [
        "O, en valores de texto, especificar la alineación:"
      ],
      "metadata": {
        "id": "UP6JdfjeA7h5"
      }
    },
    {
      "cell_type": "code",
      "execution_count": null,
      "source": [
        "print(f\"---{'a la izquierda':<25}---\")\n",
        "print(f\"---{'a la derecha':>25}---\")\n",
        "print(f\"---{'centrado':^25}---\")"
      ],
      "outputs": [],
      "metadata": {
        "id": "iW-f4FkmA7h5"
      }
    },
    {
      "cell_type": "markdown",
      "source": [
        "En el ejemplo anterior vemos dos cosas: que entre las expresiones dentro de las llaves también podemos\n",
        "incluir literales, y la ventaja de que en Python se puedan usar comillas o apóstrofes como delimitadores de valores literales de texto.\n",
        "\n",
        "Se pueden incluir también caracteres de relleno en el formato. Observa:"
      ],
      "metadata": {
        "id": "CB0gq8zZA7h6"
      }
    },
    {
      "cell_type": "code",
      "execution_count": null,
      "source": [
        "print(f\"---{'a la izquierda':*<25}---\")\n",
        "print(f\"---{'a la derecha':*>25}---\")\n",
        "print(f\"---{'centrado':*^25}---\")"
      ],
      "outputs": [],
      "metadata": {
        "id": "oExkX0vBA7h6"
      }
    },
    {
      "cell_type": "markdown",
      "source": [
        "---\n",
        "**Contesta**: ¿Qué carácter se utiliza para alinear a la izquierda?"
      ],
      "metadata": {
        "id": "b2kCHtaOA7h6"
      }
    },
    {
      "cell_type": "markdown",
      "source": [
        "Respuesta:"
      ],
      "metadata": {
        "id": "IJCTpkJwA7h6"
      }
    },
    {
      "cell_type": "markdown",
      "source": [
        "---"
      ],
      "metadata": {
        "id": "I2v9zGhJFQ4t"
      }
    },
    {
      "cell_type": "markdown",
      "source": [
        "---\n",
        "**Contesta**: ¿Qué carácter se utiliza para alinear a la derecha?"
      ],
      "metadata": {
        "id": "UCXjIjamA7h7"
      }
    },
    {
      "cell_type": "markdown",
      "source": [
        "Respuesta:"
      ],
      "metadata": {
        "id": "rzWIqNQZA7h7"
      }
    },
    {
      "cell_type": "markdown",
      "source": [
        "---"
      ],
      "metadata": {
        "id": "7bHLy-EgFWnb"
      }
    },
    {
      "cell_type": "markdown",
      "source": [
        "---\n",
        "**Contesta**: ¿Qué carácter se utiliza para centrar?"
      ],
      "metadata": {
        "id": "l8sDv-O-A7h7"
      }
    },
    {
      "cell_type": "markdown",
      "source": [
        "Respuesta:"
      ],
      "metadata": {
        "id": "f22LygNeA7h8"
      }
    },
    {
      "cell_type": "markdown",
      "source": [
        "---"
      ],
      "metadata": {
        "id": "nANw1s64FeKz"
      }
    },
    {
      "cell_type": "markdown",
      "source": [
        "---\n",
        "**Contesta**: ¿Qué función tiene el número 25 en los ejemplos de arriba?"
      ],
      "metadata": {
        "id": "0_XA7wdzA7h8"
      }
    },
    {
      "cell_type": "markdown",
      "source": [
        "Respuesta:"
      ],
      "metadata": {
        "id": "M3oSA775A7h8"
      }
    },
    {
      "cell_type": "markdown",
      "source": [
        "---"
      ],
      "metadata": {
        "id": "4Gi7B1jXFkGP"
      }
    },
    {
      "cell_type": "markdown",
      "source": [
        "Si se quieren incluir las llaves dentro de la parte literal de una f-string, hay que ponerlas dobles: `{{` y `}}`.\n",
        "\n",
        "También se pueden anidar las llaves un nivel, lo que permite usar expresiones en la definición del formato, por ejemplo, en lugar de codificar así:"
      ],
      "metadata": {
        "id": "VjKhGFgVA7h8"
      }
    },
    {
      "cell_type": "code",
      "execution_count": null,
      "source": [
        "from math import pi\n",
        "print(f\"pi:    {pi   :9.5f}\")\n",
        "print(f\"pi^2:  {pi**2:9.5f}\")\n",
        "print(f\"pi^3:  {pi**3:9.5f}\")\n",
        "print(f\"pi^4:  {pi**4:9.5f}\")\n",
        "print(f\"pi^5:  {pi**5:9.5f}\")"
      ],
      "outputs": [],
      "metadata": {
        "id": "m7FAm2OjA7h9"
      }
    },
    {
      "cell_type": "markdown",
      "source": [
        "Podemos codificar así:"
      ],
      "metadata": {
        "id": "wPRuwAnEA7h-"
      }
    },
    {
      "cell_type": "code",
      "execution_count": null,
      "source": [
        "from math import pi\n",
        "ANCHO = 9\n",
        "DECIMALES = 5\n",
        "print(f\"pi:    {pi   :{ANCHO}.{DECIMALES}f}\")\n",
        "print(f\"pi^2:  {pi**2:{ANCHO}.{DECIMALES}f}\")\n",
        "print(f\"pi^3:  {pi**3:{ANCHO}.{DECIMALES}f}\")\n",
        "print(f\"pi^4:  {pi**4:{ANCHO}.{DECIMALES}f}\")\n",
        "print(f\"pi^5:  {pi**5:{ANCHO}.{DECIMALES}f}\")"
      ],
      "outputs": [],
      "metadata": {
        "id": "kpMe2ALQA7h-"
      }
    },
    {
      "cell_type": "markdown",
      "source": [
        "---\n",
        "**Modifica el código** de las dos celdas de arriba para cambiar la visualización de las potencias de $\\pi$ y que se muestren con ocho decimales en lugar de cinco. Es posible que también tengas que cambiar el ancho del campo para que las cifras se sigan alineando correctamente por su punto decimal.\n",
        "\n",
        "---"
      ],
      "metadata": {
        "id": "46hwBKYiA7h_"
      }
    },
    {
      "cell_type": "markdown",
      "source": [
        "---\n",
        "**Contesta**: Cuando tienes que modificar código, ¿qué implicaciones tiene el que hayas parametrizado los valores, o sea, estableciendo constantes al inicio del código, como en el segundo ejemplo, a diferencia del primer ejemplo, en el que los valores literales se usaron directamente?"
      ],
      "metadata": {
        "id": "Ww85dgcnA7h_"
      }
    },
    {
      "cell_type": "markdown",
      "source": [
        "Respuesta:"
      ],
      "metadata": {
        "id": "mvETLvS7A7iA"
      }
    },
    {
      "cell_type": "markdown",
      "source": [
        "---"
      ],
      "metadata": {
        "id": "xLBg2T8iGdJg"
      }
    },
    {
      "cell_type": "markdown",
      "source": [
        "Además de los tipos `d` (entero), `f` (real) y `s` (cadena de texto), se pueden utilizar los siguientes indicadores de tipo:\n",
        "\n",
        "- `E` (notación científica),\n",
        "- `%` (porcentaje),\n",
        "- `b` (convertir a binario),\n",
        "- `X` (convertir a hexadecimal),\n",
        "\n",
        "entre otros."
      ],
      "metadata": {
        "id": "x_JXwqYBA7iA"
      }
    },
    {
      "cell_type": "markdown",
      "source": [
        "### Minilenguaje para la especificación de formato\n",
        "\n",
        "La sintaxis resumida para la especificación de formato se muestra en la siguiente tabla y su explicación la puedes encontrar en la documentación oficial de Python: (https://docs.python.org/3/library/string.html#formatspec).\n",
        "\n",
        "||`[[fill]align][sign][#][0][width][,][.precision][type]`|\n",
        "|:-|:-|\n",
        "| `fill` | <cualquier carácter> |\n",
        "| `align`| `\"<\" \\| \">\" \\| \"=\" \\| \"^\"`|\n",
        "| `sign` | `\"+\" \\| \"-\" \\| \" \" `|\n",
        "| `width`| entero |\n",
        "| `precision` | entero |\n",
        "| `type` | `\"b\" \\| \"c\" \\| \"d\" \\| \"e\" \\| \"E\" \\| \"f\" \\| \"F\" \\| \"g\" \\| \"G\" \\|`<br>`\"n\" \\| \"o\" \\| \"s\" \\| \"x\" \\| \"X\" \\| \"%\"` |"
      ],
      "metadata": {
        "id": "QjzdIEqmA7iA"
      }
    },
    {
      "cell_type": "markdown",
      "source": [
        "---\n",
        "**Modifica el código** de la celda de abajo utilizando interpolación de texto con _f-strings_ para generar la salida con el siguiente formato:\n",
        "\n",
        "\n",
        "                    Horas   Importe\n",
        "    Sueldo normal    48    4,800.00\n",
        "    Sueldo doble      9    1,800.00\n",
        "    Sueldo triple     3      900.00\n",
        "    Total            60    7,500.00"
      ],
      "metadata": {
        "id": "9XgzYFtgA7iB"
      }
    },
    {
      "cell_type": "code",
      "execution_count": null,
      "source": [
        "horas1 = 48\n",
        "horas2 = 9\n",
        "horas3 = 3\n",
        "sueldo1 = 4800\n",
        "sueldo2 = 1800\n",
        "sueldo3 = 900\n",
        "\n",
        "horasT = horas1 + horas2 + horas3\n",
        "sueldoT = sueldo1 + sueldo2 + sueldo3\n",
        "\n",
        "print(\"Horas normales:\", horas1)\n",
        "print(\"Horas dobles:\", horas2)\n",
        "print(\"Horas triples:\", horas3)\n",
        "print(\"Horas totales:\", horasT)\n",
        "print()\n",
        "print(\"Sueldo normal:\", sueldo1)\n",
        "print(\"Sueldo doble:\", sueldo2)\n",
        "print(\"Sueldo triple:\", sueldo3)\n",
        "print(\"Sueldo total:\", sueldoT)"
      ],
      "outputs": [],
      "metadata": {
        "id": "6kXLAIlKA7iB"
      }
    },
    {
      "cell_type": "markdown",
      "source": [
        "---"
      ],
      "metadata": {
        "id": "NFHjWh_dG4CQ"
      }
    }
  ],
  "metadata": {
    "kernelspec": {
      "name": "python3",
      "display_name": "Python 3.9.1 64-bit"
    },
    "language_info": {
      "codemirror_mode": {
        "name": "ipython",
        "version": 3
      },
      "file_extension": ".py",
      "mimetype": "text/x-python",
      "name": "python",
      "nbconvert_exporter": "python",
      "pygments_lexer": "ipython3",
      "version": "3.9.1"
    },
    "interpreter": {
      "hash": "1e5a504a27c91785cc20fa5894256130d97c1764e1afe7fb121f7c2e7578e171"
    },
    "colab": {
      "provenance": []
    }
  },
  "nbformat": 4,
  "nbformat_minor": 0
}